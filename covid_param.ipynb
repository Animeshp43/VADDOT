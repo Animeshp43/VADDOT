{
  "nbformat": 4,
  "nbformat_minor": 0,
  "metadata": {
    "colab": {
      "provenance": [],
      "authorship_tag": "ABX9TyMouOeIaqxXU0zvTo0CiPTJ",
      "include_colab_link": true
    },
    "kernelspec": {
      "name": "python3",
      "display_name": "Python 3"
    },
    "language_info": {
      "name": "python"
    }
  },
  "cells": [
    {
      "cell_type": "markdown",
      "metadata": {
        "id": "view-in-github",
        "colab_type": "text"
      },
      "source": [
        "<a href=\"https://colab.research.google.com/github/Animeshp43/VADDOT/blob/main/covid_param.ipynb\" target=\"_parent\"><img src=\"https://colab.research.google.com/assets/colab-badge.svg\" alt=\"Open In Colab\"/></a>"
      ]
    },
    {
      "cell_type": "code",
      "execution_count": null,
      "metadata": {
        "id": "dCrsnItCVbih"
      },
      "outputs": [],
      "source": [
        "import pandas as pd\n",
        "import numpy as np\n",
        "from sklearn.model_selection import train_test_split\n",
        "from sklearn.preprocessing import StandardScaler\n",
        "from sklearn.svm import SVC\n",
        "from  sklearn.metrics import accuracy_score\n",
        "import matplotlib.pyplot as plt\n",
        "from sklearn import svm"
      ]
    },
    {
      "cell_type": "code",
      "source": [
        "param_data=pd.read_excel('COVID-PARAM (2).xlsx')"
      ],
      "metadata": {
        "id": "gU-TC7ZYVnD1"
      },
      "execution_count": null,
      "outputs": []
    },
    {
      "cell_type": "code",
      "source": [
        "param_data"
      ],
      "metadata": {
        "colab": {
          "base_uri": "https://localhost:8080/",
          "height": 505
        },
        "id": "AkqSkvs_VrDc",
        "outputId": "b777284f-dabc-4519-e512-7c642b170441"
      },
      "execution_count": null,
      "outputs": [
        {
          "output_type": "execute_result",
          "data": {
            "text/plain": [
              "     Patient_no.  phoneme  day  jitter abs  jitter rel  shimmer abs  \\\n",
              "0              1        1   13    0.000019     0.00336        0.373   \n",
              "1              1        2   13    0.000021     0.00428        0.347   \n",
              "2              1        3   13    0.000028     0.00570        0.480   \n",
              "3              1        4   13    0.000023     0.00423        0.464   \n",
              "4              1        5   13    0.000027     0.00519        0.534   \n",
              "..           ...      ...  ...         ...         ...          ...   \n",
              "298           15        6    4    0.000047     0.00628        0.604   \n",
              "299           15        6    5    0.000041     0.00552        0.404   \n",
              "300           15        6    6    0.000022     0.00312        0.309   \n",
              "301           15        6   12    0.000045     0.00606        0.320   \n",
              "302           15        2   17    0.000019     0.00326        0.381   \n",
              "\n",
              "     shimmer rel  std(pitch)     HNR       NHR  ...      std F2      std F3  \\\n",
              "0        0.04298       2.950  18.802  0.014845  ...   36.042248   95.008683   \n",
              "1        0.03955       5.018  23.613  0.005927  ...  383.756575  116.517055   \n",
              "2        0.05472       8.246  23.686  0.005025  ...   44.258422  112.873705   \n",
              "3        0.05281       4.332  19.779  0.012111  ...  194.737538   44.260648   \n",
              "4        0.05621       6.518  21.679  0.007815  ...   24.049584   88.825711   \n",
              "..           ...         ...     ...       ...  ...         ...         ...   \n",
              "298      0.06913       0.846  18.462  0.015777  ...   28.282585   51.996242   \n",
              "299      0.04629       1.152  22.292  0.006477  ...   16.526831   40.509980   \n",
              "300      0.03563       0.827  23.712  0.004766  ...  142.893914   21.009763   \n",
              "301      0.03625       2.793  23.131  0.005519  ...   45.689417   83.675201   \n",
              "302      0.06248       2.790  18.932  0.034995  ...   34.127568   97.783452   \n",
              "\n",
              "         std F4     VTL F1     VTL F2     VTL F3     VTL F4  mean intensity  \\\n",
              "0    104.496986  12.624082  20.287798  23.318152  21.718347       81.959085   \n",
              "1    249.122421  21.729106  23.342610  18.313124  21.565483       86.264488   \n",
              "2    109.660272  20.847562  27.383222  23.483276  19.991003       86.885033   \n",
              "3     90.636245  20.251122  18.422174  22.367570  24.935102       87.532402   \n",
              "4    228.070039  19.329720  28.680068  21.497580  22.338657       85.878010   \n",
              "..          ...        ...        ...        ...        ...             ...   \n",
              "298   40.990006  24.181984  31.062251  17.511641  18.479903       82.160587   \n",
              "299   48.160548  27.899439  30.869619  16.772234  18.788547       85.735601   \n",
              "300   42.166629  23.723297  19.270626  15.749732  18.777735       84.594869   \n",
              "301   41.162993  30.081547  16.600940  16.764690  18.506034       85.618557   \n",
              "302  124.390124  13.992991  21.234991  23.316458  23.734548       80.923333   \n",
              "\n",
              "     std intensity  label  \n",
              "0         0.509729      1  \n",
              "1         0.504399      1  \n",
              "2         0.762213      1  \n",
              "3         0.947983      1  \n",
              "4         1.330031      1  \n",
              "..             ...    ...  \n",
              "298       1.080850      1  \n",
              "299       0.649130      1  \n",
              "300       0.300719      1  \n",
              "301       0.676996      1  \n",
              "302       0.591000      0  \n",
              "\n",
              "[303 rows x 25 columns]"
            ],
            "text/html": [
              "\n",
              "  <div id=\"df-7a5607d3-bc1c-4cdf-90a0-633f63235f69\">\n",
              "    <div class=\"colab-df-container\">\n",
              "      <div>\n",
              "<style scoped>\n",
              "    .dataframe tbody tr th:only-of-type {\n",
              "        vertical-align: middle;\n",
              "    }\n",
              "\n",
              "    .dataframe tbody tr th {\n",
              "        vertical-align: top;\n",
              "    }\n",
              "\n",
              "    .dataframe thead th {\n",
              "        text-align: right;\n",
              "    }\n",
              "</style>\n",
              "<table border=\"1\" class=\"dataframe\">\n",
              "  <thead>\n",
              "    <tr style=\"text-align: right;\">\n",
              "      <th></th>\n",
              "      <th>Patient_no.</th>\n",
              "      <th>phoneme</th>\n",
              "      <th>day</th>\n",
              "      <th>jitter abs</th>\n",
              "      <th>jitter rel</th>\n",
              "      <th>shimmer abs</th>\n",
              "      <th>shimmer rel</th>\n",
              "      <th>std(pitch)</th>\n",
              "      <th>HNR</th>\n",
              "      <th>NHR</th>\n",
              "      <th>...</th>\n",
              "      <th>std F2</th>\n",
              "      <th>std F3</th>\n",
              "      <th>std F4</th>\n",
              "      <th>VTL F1</th>\n",
              "      <th>VTL F2</th>\n",
              "      <th>VTL F3</th>\n",
              "      <th>VTL F4</th>\n",
              "      <th>mean intensity</th>\n",
              "      <th>std intensity</th>\n",
              "      <th>label</th>\n",
              "    </tr>\n",
              "  </thead>\n",
              "  <tbody>\n",
              "    <tr>\n",
              "      <th>0</th>\n",
              "      <td>1</td>\n",
              "      <td>1</td>\n",
              "      <td>13</td>\n",
              "      <td>0.000019</td>\n",
              "      <td>0.00336</td>\n",
              "      <td>0.373</td>\n",
              "      <td>0.04298</td>\n",
              "      <td>2.950</td>\n",
              "      <td>18.802</td>\n",
              "      <td>0.014845</td>\n",
              "      <td>...</td>\n",
              "      <td>36.042248</td>\n",
              "      <td>95.008683</td>\n",
              "      <td>104.496986</td>\n",
              "      <td>12.624082</td>\n",
              "      <td>20.287798</td>\n",
              "      <td>23.318152</td>\n",
              "      <td>21.718347</td>\n",
              "      <td>81.959085</td>\n",
              "      <td>0.509729</td>\n",
              "      <td>1</td>\n",
              "    </tr>\n",
              "    <tr>\n",
              "      <th>1</th>\n",
              "      <td>1</td>\n",
              "      <td>2</td>\n",
              "      <td>13</td>\n",
              "      <td>0.000021</td>\n",
              "      <td>0.00428</td>\n",
              "      <td>0.347</td>\n",
              "      <td>0.03955</td>\n",
              "      <td>5.018</td>\n",
              "      <td>23.613</td>\n",
              "      <td>0.005927</td>\n",
              "      <td>...</td>\n",
              "      <td>383.756575</td>\n",
              "      <td>116.517055</td>\n",
              "      <td>249.122421</td>\n",
              "      <td>21.729106</td>\n",
              "      <td>23.342610</td>\n",
              "      <td>18.313124</td>\n",
              "      <td>21.565483</td>\n",
              "      <td>86.264488</td>\n",
              "      <td>0.504399</td>\n",
              "      <td>1</td>\n",
              "    </tr>\n",
              "    <tr>\n",
              "      <th>2</th>\n",
              "      <td>1</td>\n",
              "      <td>3</td>\n",
              "      <td>13</td>\n",
              "      <td>0.000028</td>\n",
              "      <td>0.00570</td>\n",
              "      <td>0.480</td>\n",
              "      <td>0.05472</td>\n",
              "      <td>8.246</td>\n",
              "      <td>23.686</td>\n",
              "      <td>0.005025</td>\n",
              "      <td>...</td>\n",
              "      <td>44.258422</td>\n",
              "      <td>112.873705</td>\n",
              "      <td>109.660272</td>\n",
              "      <td>20.847562</td>\n",
              "      <td>27.383222</td>\n",
              "      <td>23.483276</td>\n",
              "      <td>19.991003</td>\n",
              "      <td>86.885033</td>\n",
              "      <td>0.762213</td>\n",
              "      <td>1</td>\n",
              "    </tr>\n",
              "    <tr>\n",
              "      <th>3</th>\n",
              "      <td>1</td>\n",
              "      <td>4</td>\n",
              "      <td>13</td>\n",
              "      <td>0.000023</td>\n",
              "      <td>0.00423</td>\n",
              "      <td>0.464</td>\n",
              "      <td>0.05281</td>\n",
              "      <td>4.332</td>\n",
              "      <td>19.779</td>\n",
              "      <td>0.012111</td>\n",
              "      <td>...</td>\n",
              "      <td>194.737538</td>\n",
              "      <td>44.260648</td>\n",
              "      <td>90.636245</td>\n",
              "      <td>20.251122</td>\n",
              "      <td>18.422174</td>\n",
              "      <td>22.367570</td>\n",
              "      <td>24.935102</td>\n",
              "      <td>87.532402</td>\n",
              "      <td>0.947983</td>\n",
              "      <td>1</td>\n",
              "    </tr>\n",
              "    <tr>\n",
              "      <th>4</th>\n",
              "      <td>1</td>\n",
              "      <td>5</td>\n",
              "      <td>13</td>\n",
              "      <td>0.000027</td>\n",
              "      <td>0.00519</td>\n",
              "      <td>0.534</td>\n",
              "      <td>0.05621</td>\n",
              "      <td>6.518</td>\n",
              "      <td>21.679</td>\n",
              "      <td>0.007815</td>\n",
              "      <td>...</td>\n",
              "      <td>24.049584</td>\n",
              "      <td>88.825711</td>\n",
              "      <td>228.070039</td>\n",
              "      <td>19.329720</td>\n",
              "      <td>28.680068</td>\n",
              "      <td>21.497580</td>\n",
              "      <td>22.338657</td>\n",
              "      <td>85.878010</td>\n",
              "      <td>1.330031</td>\n",
              "      <td>1</td>\n",
              "    </tr>\n",
              "    <tr>\n",
              "      <th>...</th>\n",
              "      <td>...</td>\n",
              "      <td>...</td>\n",
              "      <td>...</td>\n",
              "      <td>...</td>\n",
              "      <td>...</td>\n",
              "      <td>...</td>\n",
              "      <td>...</td>\n",
              "      <td>...</td>\n",
              "      <td>...</td>\n",
              "      <td>...</td>\n",
              "      <td>...</td>\n",
              "      <td>...</td>\n",
              "      <td>...</td>\n",
              "      <td>...</td>\n",
              "      <td>...</td>\n",
              "      <td>...</td>\n",
              "      <td>...</td>\n",
              "      <td>...</td>\n",
              "      <td>...</td>\n",
              "      <td>...</td>\n",
              "      <td>...</td>\n",
              "    </tr>\n",
              "    <tr>\n",
              "      <th>298</th>\n",
              "      <td>15</td>\n",
              "      <td>6</td>\n",
              "      <td>4</td>\n",
              "      <td>0.000047</td>\n",
              "      <td>0.00628</td>\n",
              "      <td>0.604</td>\n",
              "      <td>0.06913</td>\n",
              "      <td>0.846</td>\n",
              "      <td>18.462</td>\n",
              "      <td>0.015777</td>\n",
              "      <td>...</td>\n",
              "      <td>28.282585</td>\n",
              "      <td>51.996242</td>\n",
              "      <td>40.990006</td>\n",
              "      <td>24.181984</td>\n",
              "      <td>31.062251</td>\n",
              "      <td>17.511641</td>\n",
              "      <td>18.479903</td>\n",
              "      <td>82.160587</td>\n",
              "      <td>1.080850</td>\n",
              "      <td>1</td>\n",
              "    </tr>\n",
              "    <tr>\n",
              "      <th>299</th>\n",
              "      <td>15</td>\n",
              "      <td>6</td>\n",
              "      <td>5</td>\n",
              "      <td>0.000041</td>\n",
              "      <td>0.00552</td>\n",
              "      <td>0.404</td>\n",
              "      <td>0.04629</td>\n",
              "      <td>1.152</td>\n",
              "      <td>22.292</td>\n",
              "      <td>0.006477</td>\n",
              "      <td>...</td>\n",
              "      <td>16.526831</td>\n",
              "      <td>40.509980</td>\n",
              "      <td>48.160548</td>\n",
              "      <td>27.899439</td>\n",
              "      <td>30.869619</td>\n",
              "      <td>16.772234</td>\n",
              "      <td>18.788547</td>\n",
              "      <td>85.735601</td>\n",
              "      <td>0.649130</td>\n",
              "      <td>1</td>\n",
              "    </tr>\n",
              "    <tr>\n",
              "      <th>300</th>\n",
              "      <td>15</td>\n",
              "      <td>6</td>\n",
              "      <td>6</td>\n",
              "      <td>0.000022</td>\n",
              "      <td>0.00312</td>\n",
              "      <td>0.309</td>\n",
              "      <td>0.03563</td>\n",
              "      <td>0.827</td>\n",
              "      <td>23.712</td>\n",
              "      <td>0.004766</td>\n",
              "      <td>...</td>\n",
              "      <td>142.893914</td>\n",
              "      <td>21.009763</td>\n",
              "      <td>42.166629</td>\n",
              "      <td>23.723297</td>\n",
              "      <td>19.270626</td>\n",
              "      <td>15.749732</td>\n",
              "      <td>18.777735</td>\n",
              "      <td>84.594869</td>\n",
              "      <td>0.300719</td>\n",
              "      <td>1</td>\n",
              "    </tr>\n",
              "    <tr>\n",
              "      <th>301</th>\n",
              "      <td>15</td>\n",
              "      <td>6</td>\n",
              "      <td>12</td>\n",
              "      <td>0.000045</td>\n",
              "      <td>0.00606</td>\n",
              "      <td>0.320</td>\n",
              "      <td>0.03625</td>\n",
              "      <td>2.793</td>\n",
              "      <td>23.131</td>\n",
              "      <td>0.005519</td>\n",
              "      <td>...</td>\n",
              "      <td>45.689417</td>\n",
              "      <td>83.675201</td>\n",
              "      <td>41.162993</td>\n",
              "      <td>30.081547</td>\n",
              "      <td>16.600940</td>\n",
              "      <td>16.764690</td>\n",
              "      <td>18.506034</td>\n",
              "      <td>85.618557</td>\n",
              "      <td>0.676996</td>\n",
              "      <td>1</td>\n",
              "    </tr>\n",
              "    <tr>\n",
              "      <th>302</th>\n",
              "      <td>15</td>\n",
              "      <td>2</td>\n",
              "      <td>17</td>\n",
              "      <td>0.000019</td>\n",
              "      <td>0.00326</td>\n",
              "      <td>0.381</td>\n",
              "      <td>0.06248</td>\n",
              "      <td>2.790</td>\n",
              "      <td>18.932</td>\n",
              "      <td>0.034995</td>\n",
              "      <td>...</td>\n",
              "      <td>34.127568</td>\n",
              "      <td>97.783452</td>\n",
              "      <td>124.390124</td>\n",
              "      <td>13.992991</td>\n",
              "      <td>21.234991</td>\n",
              "      <td>23.316458</td>\n",
              "      <td>23.734548</td>\n",
              "      <td>80.923333</td>\n",
              "      <td>0.591000</td>\n",
              "      <td>0</td>\n",
              "    </tr>\n",
              "  </tbody>\n",
              "</table>\n",
              "<p>303 rows × 25 columns</p>\n",
              "</div>\n",
              "      <button class=\"colab-df-convert\" onclick=\"convertToInteractive('df-7a5607d3-bc1c-4cdf-90a0-633f63235f69')\"\n",
              "              title=\"Convert this dataframe to an interactive table.\"\n",
              "              style=\"display:none;\">\n",
              "        \n",
              "  <svg xmlns=\"http://www.w3.org/2000/svg\" height=\"24px\"viewBox=\"0 0 24 24\"\n",
              "       width=\"24px\">\n",
              "    <path d=\"M0 0h24v24H0V0z\" fill=\"none\"/>\n",
              "    <path d=\"M18.56 5.44l.94 2.06.94-2.06 2.06-.94-2.06-.94-.94-2.06-.94 2.06-2.06.94zm-11 1L8.5 8.5l.94-2.06 2.06-.94-2.06-.94L8.5 2.5l-.94 2.06-2.06.94zm10 10l.94 2.06.94-2.06 2.06-.94-2.06-.94-.94-2.06-.94 2.06-2.06.94z\"/><path d=\"M17.41 7.96l-1.37-1.37c-.4-.4-.92-.59-1.43-.59-.52 0-1.04.2-1.43.59L10.3 9.45l-7.72 7.72c-.78.78-.78 2.05 0 2.83L4 21.41c.39.39.9.59 1.41.59.51 0 1.02-.2 1.41-.59l7.78-7.78 2.81-2.81c.8-.78.8-2.07 0-2.86zM5.41 20L4 18.59l7.72-7.72 1.47 1.35L5.41 20z\"/>\n",
              "  </svg>\n",
              "      </button>\n",
              "      \n",
              "  <style>\n",
              "    .colab-df-container {\n",
              "      display:flex;\n",
              "      flex-wrap:wrap;\n",
              "      gap: 12px;\n",
              "    }\n",
              "\n",
              "    .colab-df-convert {\n",
              "      background-color: #E8F0FE;\n",
              "      border: none;\n",
              "      border-radius: 50%;\n",
              "      cursor: pointer;\n",
              "      display: none;\n",
              "      fill: #1967D2;\n",
              "      height: 32px;\n",
              "      padding: 0 0 0 0;\n",
              "      width: 32px;\n",
              "    }\n",
              "\n",
              "    .colab-df-convert:hover {\n",
              "      background-color: #E2EBFA;\n",
              "      box-shadow: 0px 1px 2px rgba(60, 64, 67, 0.3), 0px 1px 3px 1px rgba(60, 64, 67, 0.15);\n",
              "      fill: #174EA6;\n",
              "    }\n",
              "\n",
              "    [theme=dark] .colab-df-convert {\n",
              "      background-color: #3B4455;\n",
              "      fill: #D2E3FC;\n",
              "    }\n",
              "\n",
              "    [theme=dark] .colab-df-convert:hover {\n",
              "      background-color: #434B5C;\n",
              "      box-shadow: 0px 1px 3px 1px rgba(0, 0, 0, 0.15);\n",
              "      filter: drop-shadow(0px 1px 2px rgba(0, 0, 0, 0.3));\n",
              "      fill: #FFFFFF;\n",
              "    }\n",
              "  </style>\n",
              "\n",
              "      <script>\n",
              "        const buttonEl =\n",
              "          document.querySelector('#df-7a5607d3-bc1c-4cdf-90a0-633f63235f69 button.colab-df-convert');\n",
              "        buttonEl.style.display =\n",
              "          google.colab.kernel.accessAllowed ? 'block' : 'none';\n",
              "\n",
              "        async function convertToInteractive(key) {\n",
              "          const element = document.querySelector('#df-7a5607d3-bc1c-4cdf-90a0-633f63235f69');\n",
              "          const dataTable =\n",
              "            await google.colab.kernel.invokeFunction('convertToInteractive',\n",
              "                                                     [key], {});\n",
              "          if (!dataTable) return;\n",
              "\n",
              "          const docLinkHtml = 'Like what you see? Visit the ' +\n",
              "            '<a target=\"_blank\" href=https://colab.research.google.com/notebooks/data_table.ipynb>data table notebook</a>'\n",
              "            + ' to learn more about interactive tables.';\n",
              "          element.innerHTML = '';\n",
              "          dataTable['output_type'] = 'display_data';\n",
              "          await google.colab.output.renderOutput(dataTable, element);\n",
              "          const docLink = document.createElement('div');\n",
              "          docLink.innerHTML = docLinkHtml;\n",
              "          element.appendChild(docLink);\n",
              "        }\n",
              "      </script>\n",
              "    </div>\n",
              "  </div>\n",
              "  "
            ]
          },
          "metadata": {},
          "execution_count": 3
        }
      ]
    },
    {
      "cell_type": "markdown",
      "source": [
        "# numbers of rows and columns in the dataframe\n"
      ],
      "metadata": {
        "id": "EGfBoLFYV1op"
      }
    },
    {
      "cell_type": "code",
      "source": [
        "param_data.shape"
      ],
      "metadata": {
        "colab": {
          "base_uri": "https://localhost:8080/"
        },
        "id": "aoerDM2rVwhy",
        "outputId": "b9c9f1ab-5934-410c-8cb4-94cef68a5872"
      },
      "execution_count": null,
      "outputs": [
        {
          "output_type": "execute_result",
          "data": {
            "text/plain": [
              "(303, 25)"
            ]
          },
          "metadata": {},
          "execution_count": 4
        }
      ]
    },
    {
      "cell_type": "code",
      "source": [
        "# getting more information about the dataset\n",
        "param_data.info()"
      ],
      "metadata": {
        "colab": {
          "base_uri": "https://localhost:8080/"
        },
        "id": "i5uGQ9tlV79t",
        "outputId": "aa2799eb-faab-4aba-e9c8-915c71f3c9a9"
      },
      "execution_count": null,
      "outputs": [
        {
          "output_type": "stream",
          "name": "stdout",
          "text": [
            "<class 'pandas.core.frame.DataFrame'>\n",
            "RangeIndex: 303 entries, 0 to 302\n",
            "Data columns (total 25 columns):\n",
            " #   Column          Non-Null Count  Dtype  \n",
            "---  ------          --------------  -----  \n",
            " 0   Patient_no.     303 non-null    int64  \n",
            " 1   phoneme         303 non-null    int64  \n",
            " 2   day             303 non-null    int64  \n",
            " 3   jitter abs      303 non-null    float64\n",
            " 4   jitter rel      303 non-null    float64\n",
            " 5   shimmer abs     303 non-null    float64\n",
            " 6   shimmer rel     303 non-null    float64\n",
            " 7   std(pitch)      303 non-null    float64\n",
            " 8   HNR             303 non-null    float64\n",
            " 9   NHR             303 non-null    float64\n",
            " 10  mean F1         303 non-null    float64\n",
            " 11  mean F2         303 non-null    float64\n",
            " 12  mean F3         303 non-null    float64\n",
            " 13  mean F4         303 non-null    float64\n",
            " 14  std F1          303 non-null    float64\n",
            " 15  std F2          303 non-null    float64\n",
            " 16  std F3          303 non-null    float64\n",
            " 17  std F4          303 non-null    float64\n",
            " 18  VTL F1          303 non-null    float64\n",
            " 19  VTL F2          303 non-null    float64\n",
            " 20  VTL F3          303 non-null    float64\n",
            " 21  VTL F4          303 non-null    float64\n",
            " 22  mean intensity  303 non-null    float64\n",
            " 23  std intensity   303 non-null    float64\n",
            " 24  label           303 non-null    int64  \n",
            "dtypes: float64(21), int64(4)\n",
            "memory usage: 59.3 KB\n"
          ]
        }
      ]
    },
    {
      "cell_type": "code",
      "source": [
        "#checking for missing values in each column\n",
        "param_data.isnull().sum()"
      ],
      "metadata": {
        "colab": {
          "base_uri": "https://localhost:8080/"
        },
        "id": "bLGvQPd_V-tb",
        "outputId": "f6667c0f-fd63-4f59-de6a-574f0d0e29ba"
      },
      "execution_count": null,
      "outputs": [
        {
          "output_type": "execute_result",
          "data": {
            "text/plain": [
              "Patient_no.       0\n",
              "phoneme           0\n",
              "day               0\n",
              "jitter abs        0\n",
              "jitter rel        0\n",
              "shimmer abs       0\n",
              "shimmer rel       0\n",
              "std(pitch)        0\n",
              "HNR               0\n",
              "NHR               0\n",
              "mean F1           0\n",
              "mean F2           0\n",
              "mean F3           0\n",
              "mean F4           0\n",
              "std F1            0\n",
              "std F2            0\n",
              "std F3            0\n",
              "std F4            0\n",
              "VTL F1            0\n",
              "VTL F2            0\n",
              "VTL F3            0\n",
              "VTL F4            0\n",
              "mean intensity    0\n",
              "std intensity     0\n",
              "label             0\n",
              "dtype: int64"
            ]
          },
          "metadata": {},
          "execution_count": 6
        }
      ]
    },
    {
      "cell_type": "code",
      "source": [
        "# getting some statistical measures about the data\n",
        "param_data.describe()"
      ],
      "metadata": {
        "colab": {
          "base_uri": "https://localhost:8080/",
          "height": 411
        },
        "id": "cynH7DP8WLfy",
        "outputId": "f5742424-6cf4-4dfe-9790-7d282d5ecac7"
      },
      "execution_count": null,
      "outputs": [
        {
          "output_type": "execute_result",
          "data": {
            "text/plain": [
              "       Patient_no.     phoneme         day  jitter abs  jitter rel  \\\n",
              "count   303.000000  303.000000  303.000000  303.000000  303.000000   \n",
              "mean     10.273927    3.419142    9.353135    0.000039    0.006376   \n",
              "std       4.033906    1.663565    5.223867    0.000039    0.005328   \n",
              "min       1.000000    1.000000    1.000000    0.000006    0.001320   \n",
              "25%       8.500000    2.000000    5.000000    0.000018    0.003275   \n",
              "50%      11.000000    3.000000   10.000000    0.000029    0.005040   \n",
              "75%      13.000000    5.000000   13.500000    0.000045    0.007300   \n",
              "max      15.000000    6.000000   20.000000    0.000349    0.044320   \n",
              "\n",
              "       shimmer abs  shimmer rel  std(pitch)         HNR         NHR  ...  \\\n",
              "count   303.000000   303.000000  303.000000  303.000000  303.000000  ...   \n",
              "mean      0.523974     0.058785    1.960997   20.775957    0.023515  ...   \n",
              "std       0.320412     0.035097    2.070403    4.709956    0.034978  ...   \n",
              "min       0.106000     0.012080    0.439000    7.783000    0.000674  ...   \n",
              "25%       0.307000     0.035220    0.966500   17.851000    0.005045  ...   \n",
              "50%       0.427000     0.048710    1.460000   21.302000    0.010123  ...   \n",
              "75%       0.603000     0.068705    2.271000   23.699000    0.024392  ...   \n",
              "max       1.684000     0.196750   28.239000   32.564000    0.264447  ...   \n",
              "\n",
              "            std F2      std F3      std F4      VTL F1      VTL F2  \\\n",
              "count   303.000000  303.000000  303.000000  303.000000  303.000000   \n",
              "mean    150.756233  132.554882  110.090260   21.067592   26.432909   \n",
              "std     233.360561  112.925534   79.147827    5.317659    9.066784   \n",
              "min       3.404743    8.100599   17.447342    8.506305    9.309942   \n",
              "25%      24.791191   60.608163   59.244375   17.552076   19.325865   \n",
              "50%      51.676142  103.398459   89.573864   20.929280   27.383222   \n",
              "75%     138.615044  162.998844  125.587853   24.245872   33.502381   \n",
              "max    1089.342228  854.484895  493.320101   36.495401   57.891431   \n",
              "\n",
              "           VTL F3      VTL F4  mean intensity  std intensity       label  \n",
              "count  303.000000  303.000000      303.000000     303.000000  303.000000  \n",
              "mean    18.834299   19.433763       84.346726       1.073970    0.963696  \n",
              "std      3.179955    1.785310        2.066496       0.799137    0.187354  \n",
              "min     13.270752   15.849386       74.475687       0.196191    0.000000  \n",
              "25%     16.570102   18.039865       82.945900       0.503286    1.000000  \n",
              "50%     17.890675   19.182338       84.586612       0.812968    1.000000  \n",
              "75%     20.736878   20.664087       85.823012       1.371344    1.000000  \n",
              "max     28.994308   25.630071       88.524782       4.694598    1.000000  \n",
              "\n",
              "[8 rows x 25 columns]"
            ],
            "text/html": [
              "\n",
              "  <div id=\"df-c930df28-f9be-4270-bc70-fee161d05c04\">\n",
              "    <div class=\"colab-df-container\">\n",
              "      <div>\n",
              "<style scoped>\n",
              "    .dataframe tbody tr th:only-of-type {\n",
              "        vertical-align: middle;\n",
              "    }\n",
              "\n",
              "    .dataframe tbody tr th {\n",
              "        vertical-align: top;\n",
              "    }\n",
              "\n",
              "    .dataframe thead th {\n",
              "        text-align: right;\n",
              "    }\n",
              "</style>\n",
              "<table border=\"1\" class=\"dataframe\">\n",
              "  <thead>\n",
              "    <tr style=\"text-align: right;\">\n",
              "      <th></th>\n",
              "      <th>Patient_no.</th>\n",
              "      <th>phoneme</th>\n",
              "      <th>day</th>\n",
              "      <th>jitter abs</th>\n",
              "      <th>jitter rel</th>\n",
              "      <th>shimmer abs</th>\n",
              "      <th>shimmer rel</th>\n",
              "      <th>std(pitch)</th>\n",
              "      <th>HNR</th>\n",
              "      <th>NHR</th>\n",
              "      <th>...</th>\n",
              "      <th>std F2</th>\n",
              "      <th>std F3</th>\n",
              "      <th>std F4</th>\n",
              "      <th>VTL F1</th>\n",
              "      <th>VTL F2</th>\n",
              "      <th>VTL F3</th>\n",
              "      <th>VTL F4</th>\n",
              "      <th>mean intensity</th>\n",
              "      <th>std intensity</th>\n",
              "      <th>label</th>\n",
              "    </tr>\n",
              "  </thead>\n",
              "  <tbody>\n",
              "    <tr>\n",
              "      <th>count</th>\n",
              "      <td>303.000000</td>\n",
              "      <td>303.000000</td>\n",
              "      <td>303.000000</td>\n",
              "      <td>303.000000</td>\n",
              "      <td>303.000000</td>\n",
              "      <td>303.000000</td>\n",
              "      <td>303.000000</td>\n",
              "      <td>303.000000</td>\n",
              "      <td>303.000000</td>\n",
              "      <td>303.000000</td>\n",
              "      <td>...</td>\n",
              "      <td>303.000000</td>\n",
              "      <td>303.000000</td>\n",
              "      <td>303.000000</td>\n",
              "      <td>303.000000</td>\n",
              "      <td>303.000000</td>\n",
              "      <td>303.000000</td>\n",
              "      <td>303.000000</td>\n",
              "      <td>303.000000</td>\n",
              "      <td>303.000000</td>\n",
              "      <td>303.000000</td>\n",
              "    </tr>\n",
              "    <tr>\n",
              "      <th>mean</th>\n",
              "      <td>10.273927</td>\n",
              "      <td>3.419142</td>\n",
              "      <td>9.353135</td>\n",
              "      <td>0.000039</td>\n",
              "      <td>0.006376</td>\n",
              "      <td>0.523974</td>\n",
              "      <td>0.058785</td>\n",
              "      <td>1.960997</td>\n",
              "      <td>20.775957</td>\n",
              "      <td>0.023515</td>\n",
              "      <td>...</td>\n",
              "      <td>150.756233</td>\n",
              "      <td>132.554882</td>\n",
              "      <td>110.090260</td>\n",
              "      <td>21.067592</td>\n",
              "      <td>26.432909</td>\n",
              "      <td>18.834299</td>\n",
              "      <td>19.433763</td>\n",
              "      <td>84.346726</td>\n",
              "      <td>1.073970</td>\n",
              "      <td>0.963696</td>\n",
              "    </tr>\n",
              "    <tr>\n",
              "      <th>std</th>\n",
              "      <td>4.033906</td>\n",
              "      <td>1.663565</td>\n",
              "      <td>5.223867</td>\n",
              "      <td>0.000039</td>\n",
              "      <td>0.005328</td>\n",
              "      <td>0.320412</td>\n",
              "      <td>0.035097</td>\n",
              "      <td>2.070403</td>\n",
              "      <td>4.709956</td>\n",
              "      <td>0.034978</td>\n",
              "      <td>...</td>\n",
              "      <td>233.360561</td>\n",
              "      <td>112.925534</td>\n",
              "      <td>79.147827</td>\n",
              "      <td>5.317659</td>\n",
              "      <td>9.066784</td>\n",
              "      <td>3.179955</td>\n",
              "      <td>1.785310</td>\n",
              "      <td>2.066496</td>\n",
              "      <td>0.799137</td>\n",
              "      <td>0.187354</td>\n",
              "    </tr>\n",
              "    <tr>\n",
              "      <th>min</th>\n",
              "      <td>1.000000</td>\n",
              "      <td>1.000000</td>\n",
              "      <td>1.000000</td>\n",
              "      <td>0.000006</td>\n",
              "      <td>0.001320</td>\n",
              "      <td>0.106000</td>\n",
              "      <td>0.012080</td>\n",
              "      <td>0.439000</td>\n",
              "      <td>7.783000</td>\n",
              "      <td>0.000674</td>\n",
              "      <td>...</td>\n",
              "      <td>3.404743</td>\n",
              "      <td>8.100599</td>\n",
              "      <td>17.447342</td>\n",
              "      <td>8.506305</td>\n",
              "      <td>9.309942</td>\n",
              "      <td>13.270752</td>\n",
              "      <td>15.849386</td>\n",
              "      <td>74.475687</td>\n",
              "      <td>0.196191</td>\n",
              "      <td>0.000000</td>\n",
              "    </tr>\n",
              "    <tr>\n",
              "      <th>25%</th>\n",
              "      <td>8.500000</td>\n",
              "      <td>2.000000</td>\n",
              "      <td>5.000000</td>\n",
              "      <td>0.000018</td>\n",
              "      <td>0.003275</td>\n",
              "      <td>0.307000</td>\n",
              "      <td>0.035220</td>\n",
              "      <td>0.966500</td>\n",
              "      <td>17.851000</td>\n",
              "      <td>0.005045</td>\n",
              "      <td>...</td>\n",
              "      <td>24.791191</td>\n",
              "      <td>60.608163</td>\n",
              "      <td>59.244375</td>\n",
              "      <td>17.552076</td>\n",
              "      <td>19.325865</td>\n",
              "      <td>16.570102</td>\n",
              "      <td>18.039865</td>\n",
              "      <td>82.945900</td>\n",
              "      <td>0.503286</td>\n",
              "      <td>1.000000</td>\n",
              "    </tr>\n",
              "    <tr>\n",
              "      <th>50%</th>\n",
              "      <td>11.000000</td>\n",
              "      <td>3.000000</td>\n",
              "      <td>10.000000</td>\n",
              "      <td>0.000029</td>\n",
              "      <td>0.005040</td>\n",
              "      <td>0.427000</td>\n",
              "      <td>0.048710</td>\n",
              "      <td>1.460000</td>\n",
              "      <td>21.302000</td>\n",
              "      <td>0.010123</td>\n",
              "      <td>...</td>\n",
              "      <td>51.676142</td>\n",
              "      <td>103.398459</td>\n",
              "      <td>89.573864</td>\n",
              "      <td>20.929280</td>\n",
              "      <td>27.383222</td>\n",
              "      <td>17.890675</td>\n",
              "      <td>19.182338</td>\n",
              "      <td>84.586612</td>\n",
              "      <td>0.812968</td>\n",
              "      <td>1.000000</td>\n",
              "    </tr>\n",
              "    <tr>\n",
              "      <th>75%</th>\n",
              "      <td>13.000000</td>\n",
              "      <td>5.000000</td>\n",
              "      <td>13.500000</td>\n",
              "      <td>0.000045</td>\n",
              "      <td>0.007300</td>\n",
              "      <td>0.603000</td>\n",
              "      <td>0.068705</td>\n",
              "      <td>2.271000</td>\n",
              "      <td>23.699000</td>\n",
              "      <td>0.024392</td>\n",
              "      <td>...</td>\n",
              "      <td>138.615044</td>\n",
              "      <td>162.998844</td>\n",
              "      <td>125.587853</td>\n",
              "      <td>24.245872</td>\n",
              "      <td>33.502381</td>\n",
              "      <td>20.736878</td>\n",
              "      <td>20.664087</td>\n",
              "      <td>85.823012</td>\n",
              "      <td>1.371344</td>\n",
              "      <td>1.000000</td>\n",
              "    </tr>\n",
              "    <tr>\n",
              "      <th>max</th>\n",
              "      <td>15.000000</td>\n",
              "      <td>6.000000</td>\n",
              "      <td>20.000000</td>\n",
              "      <td>0.000349</td>\n",
              "      <td>0.044320</td>\n",
              "      <td>1.684000</td>\n",
              "      <td>0.196750</td>\n",
              "      <td>28.239000</td>\n",
              "      <td>32.564000</td>\n",
              "      <td>0.264447</td>\n",
              "      <td>...</td>\n",
              "      <td>1089.342228</td>\n",
              "      <td>854.484895</td>\n",
              "      <td>493.320101</td>\n",
              "      <td>36.495401</td>\n",
              "      <td>57.891431</td>\n",
              "      <td>28.994308</td>\n",
              "      <td>25.630071</td>\n",
              "      <td>88.524782</td>\n",
              "      <td>4.694598</td>\n",
              "      <td>1.000000</td>\n",
              "    </tr>\n",
              "  </tbody>\n",
              "</table>\n",
              "<p>8 rows × 25 columns</p>\n",
              "</div>\n",
              "      <button class=\"colab-df-convert\" onclick=\"convertToInteractive('df-c930df28-f9be-4270-bc70-fee161d05c04')\"\n",
              "              title=\"Convert this dataframe to an interactive table.\"\n",
              "              style=\"display:none;\">\n",
              "        \n",
              "  <svg xmlns=\"http://www.w3.org/2000/svg\" height=\"24px\"viewBox=\"0 0 24 24\"\n",
              "       width=\"24px\">\n",
              "    <path d=\"M0 0h24v24H0V0z\" fill=\"none\"/>\n",
              "    <path d=\"M18.56 5.44l.94 2.06.94-2.06 2.06-.94-2.06-.94-.94-2.06-.94 2.06-2.06.94zm-11 1L8.5 8.5l.94-2.06 2.06-.94-2.06-.94L8.5 2.5l-.94 2.06-2.06.94zm10 10l.94 2.06.94-2.06 2.06-.94-2.06-.94-.94-2.06-.94 2.06-2.06.94z\"/><path d=\"M17.41 7.96l-1.37-1.37c-.4-.4-.92-.59-1.43-.59-.52 0-1.04.2-1.43.59L10.3 9.45l-7.72 7.72c-.78.78-.78 2.05 0 2.83L4 21.41c.39.39.9.59 1.41.59.51 0 1.02-.2 1.41-.59l7.78-7.78 2.81-2.81c.8-.78.8-2.07 0-2.86zM5.41 20L4 18.59l7.72-7.72 1.47 1.35L5.41 20z\"/>\n",
              "  </svg>\n",
              "      </button>\n",
              "      \n",
              "  <style>\n",
              "    .colab-df-container {\n",
              "      display:flex;\n",
              "      flex-wrap:wrap;\n",
              "      gap: 12px;\n",
              "    }\n",
              "\n",
              "    .colab-df-convert {\n",
              "      background-color: #E8F0FE;\n",
              "      border: none;\n",
              "      border-radius: 50%;\n",
              "      cursor: pointer;\n",
              "      display: none;\n",
              "      fill: #1967D2;\n",
              "      height: 32px;\n",
              "      padding: 0 0 0 0;\n",
              "      width: 32px;\n",
              "    }\n",
              "\n",
              "    .colab-df-convert:hover {\n",
              "      background-color: #E2EBFA;\n",
              "      box-shadow: 0px 1px 2px rgba(60, 64, 67, 0.3), 0px 1px 3px 1px rgba(60, 64, 67, 0.15);\n",
              "      fill: #174EA6;\n",
              "    }\n",
              "\n",
              "    [theme=dark] .colab-df-convert {\n",
              "      background-color: #3B4455;\n",
              "      fill: #D2E3FC;\n",
              "    }\n",
              "\n",
              "    [theme=dark] .colab-df-convert:hover {\n",
              "      background-color: #434B5C;\n",
              "      box-shadow: 0px 1px 3px 1px rgba(0, 0, 0, 0.15);\n",
              "      filter: drop-shadow(0px 1px 2px rgba(0, 0, 0, 0.3));\n",
              "      fill: #FFFFFF;\n",
              "    }\n",
              "  </style>\n",
              "\n",
              "      <script>\n",
              "        const buttonEl =\n",
              "          document.querySelector('#df-c930df28-f9be-4270-bc70-fee161d05c04 button.colab-df-convert');\n",
              "        buttonEl.style.display =\n",
              "          google.colab.kernel.accessAllowed ? 'block' : 'none';\n",
              "\n",
              "        async function convertToInteractive(key) {\n",
              "          const element = document.querySelector('#df-c930df28-f9be-4270-bc70-fee161d05c04');\n",
              "          const dataTable =\n",
              "            await google.colab.kernel.invokeFunction('convertToInteractive',\n",
              "                                                     [key], {});\n",
              "          if (!dataTable) return;\n",
              "\n",
              "          const docLinkHtml = 'Like what you see? Visit the ' +\n",
              "            '<a target=\"_blank\" href=https://colab.research.google.com/notebooks/data_table.ipynb>data table notebook</a>'\n",
              "            + ' to learn more about interactive tables.';\n",
              "          element.innerHTML = '';\n",
              "          dataTable['output_type'] = 'display_data';\n",
              "          await google.colab.output.renderOutput(dataTable, element);\n",
              "          const docLink = document.createElement('div');\n",
              "          docLink.innerHTML = docLinkHtml;\n",
              "          element.appendChild(docLink);\n",
              "        }\n",
              "      </script>\n",
              "    </div>\n",
              "  </div>\n",
              "  "
            ]
          },
          "metadata": {},
          "execution_count": 7
        }
      ]
    },
    {
      "cell_type": "code",
      "source": [
        "# distribution of target Variable\n",
        "param_data['label'].value_counts()"
      ],
      "metadata": {
        "colab": {
          "base_uri": "https://localhost:8080/"
        },
        "id": "1XvBP2TLWQxC",
        "outputId": "f0c44324-4e72-4d49-d648-882592a82284"
      },
      "execution_count": null,
      "outputs": [
        {
          "output_type": "execute_result",
          "data": {
            "text/plain": [
              "1    292\n",
              "0     11\n",
              "Name: label, dtype: int64"
            ]
          },
          "metadata": {},
          "execution_count": 8
        }
      ]
    },
    {
      "cell_type": "code",
      "source": [
        "# grouping the data based on the target variable\n",
        "param_data.groupby('label').mean()"
      ],
      "metadata": {
        "colab": {
          "base_uri": "https://localhost:8080/",
          "height": 254
        },
        "id": "yQO4WQl8WWrV",
        "outputId": "c9aaf164-3599-4215-89d8-e54c30d9130a"
      },
      "execution_count": null,
      "outputs": [
        {
          "output_type": "execute_result",
          "data": {
            "text/plain": [
              "       Patient_no.   phoneme        day  jitter abs  jitter rel  shimmer abs  \\\n",
              "label                                                                          \n",
              "0         7.363636  2.545455  13.363636    0.000020    0.003404     0.394909   \n",
              "1        10.383562  3.452055   9.202055    0.000039    0.006488     0.528836   \n",
              "\n",
              "       shimmer rel  std(pitch)        HNR       NHR  ...     std F1  \\\n",
              "label                                                ...              \n",
              "0         0.045455    2.968182  18.711545  0.017233  ...  13.956928   \n",
              "1         0.059287    1.923055  20.853726  0.023751  ...  28.422890   \n",
              "\n",
              "           std F2      std F3      std F4     VTL F1     VTL F2     VTL F3  \\\n",
              "label                                                                        \n",
              "0       35.981137   95.653119  108.304495  12.815221  20.490510  23.327095   \n",
              "1      155.079952  133.945017  110.157532  21.378469  26.656766  18.665050   \n",
              "\n",
              "          VTL F4  mean intensity  std intensity  \n",
              "label                                            \n",
              "0      22.090669       81.754888       0.518797  \n",
              "1      19.333674       84.444363       1.094884  \n",
              "\n",
              "[2 rows x 24 columns]"
            ],
            "text/html": [
              "\n",
              "  <div id=\"df-2ee579ce-bdc3-446e-a691-c6ffd992e241\">\n",
              "    <div class=\"colab-df-container\">\n",
              "      <div>\n",
              "<style scoped>\n",
              "    .dataframe tbody tr th:only-of-type {\n",
              "        vertical-align: middle;\n",
              "    }\n",
              "\n",
              "    .dataframe tbody tr th {\n",
              "        vertical-align: top;\n",
              "    }\n",
              "\n",
              "    .dataframe thead th {\n",
              "        text-align: right;\n",
              "    }\n",
              "</style>\n",
              "<table border=\"1\" class=\"dataframe\">\n",
              "  <thead>\n",
              "    <tr style=\"text-align: right;\">\n",
              "      <th></th>\n",
              "      <th>Patient_no.</th>\n",
              "      <th>phoneme</th>\n",
              "      <th>day</th>\n",
              "      <th>jitter abs</th>\n",
              "      <th>jitter rel</th>\n",
              "      <th>shimmer abs</th>\n",
              "      <th>shimmer rel</th>\n",
              "      <th>std(pitch)</th>\n",
              "      <th>HNR</th>\n",
              "      <th>NHR</th>\n",
              "      <th>...</th>\n",
              "      <th>std F1</th>\n",
              "      <th>std F2</th>\n",
              "      <th>std F3</th>\n",
              "      <th>std F4</th>\n",
              "      <th>VTL F1</th>\n",
              "      <th>VTL F2</th>\n",
              "      <th>VTL F3</th>\n",
              "      <th>VTL F4</th>\n",
              "      <th>mean intensity</th>\n",
              "      <th>std intensity</th>\n",
              "    </tr>\n",
              "    <tr>\n",
              "      <th>label</th>\n",
              "      <th></th>\n",
              "      <th></th>\n",
              "      <th></th>\n",
              "      <th></th>\n",
              "      <th></th>\n",
              "      <th></th>\n",
              "      <th></th>\n",
              "      <th></th>\n",
              "      <th></th>\n",
              "      <th></th>\n",
              "      <th></th>\n",
              "      <th></th>\n",
              "      <th></th>\n",
              "      <th></th>\n",
              "      <th></th>\n",
              "      <th></th>\n",
              "      <th></th>\n",
              "      <th></th>\n",
              "      <th></th>\n",
              "      <th></th>\n",
              "      <th></th>\n",
              "    </tr>\n",
              "  </thead>\n",
              "  <tbody>\n",
              "    <tr>\n",
              "      <th>0</th>\n",
              "      <td>7.363636</td>\n",
              "      <td>2.545455</td>\n",
              "      <td>13.363636</td>\n",
              "      <td>0.000020</td>\n",
              "      <td>0.003404</td>\n",
              "      <td>0.394909</td>\n",
              "      <td>0.045455</td>\n",
              "      <td>2.968182</td>\n",
              "      <td>18.711545</td>\n",
              "      <td>0.017233</td>\n",
              "      <td>...</td>\n",
              "      <td>13.956928</td>\n",
              "      <td>35.981137</td>\n",
              "      <td>95.653119</td>\n",
              "      <td>108.304495</td>\n",
              "      <td>12.815221</td>\n",
              "      <td>20.490510</td>\n",
              "      <td>23.327095</td>\n",
              "      <td>22.090669</td>\n",
              "      <td>81.754888</td>\n",
              "      <td>0.518797</td>\n",
              "    </tr>\n",
              "    <tr>\n",
              "      <th>1</th>\n",
              "      <td>10.383562</td>\n",
              "      <td>3.452055</td>\n",
              "      <td>9.202055</td>\n",
              "      <td>0.000039</td>\n",
              "      <td>0.006488</td>\n",
              "      <td>0.528836</td>\n",
              "      <td>0.059287</td>\n",
              "      <td>1.923055</td>\n",
              "      <td>20.853726</td>\n",
              "      <td>0.023751</td>\n",
              "      <td>...</td>\n",
              "      <td>28.422890</td>\n",
              "      <td>155.079952</td>\n",
              "      <td>133.945017</td>\n",
              "      <td>110.157532</td>\n",
              "      <td>21.378469</td>\n",
              "      <td>26.656766</td>\n",
              "      <td>18.665050</td>\n",
              "      <td>19.333674</td>\n",
              "      <td>84.444363</td>\n",
              "      <td>1.094884</td>\n",
              "    </tr>\n",
              "  </tbody>\n",
              "</table>\n",
              "<p>2 rows × 24 columns</p>\n",
              "</div>\n",
              "      <button class=\"colab-df-convert\" onclick=\"convertToInteractive('df-2ee579ce-bdc3-446e-a691-c6ffd992e241')\"\n",
              "              title=\"Convert this dataframe to an interactive table.\"\n",
              "              style=\"display:none;\">\n",
              "        \n",
              "  <svg xmlns=\"http://www.w3.org/2000/svg\" height=\"24px\"viewBox=\"0 0 24 24\"\n",
              "       width=\"24px\">\n",
              "    <path d=\"M0 0h24v24H0V0z\" fill=\"none\"/>\n",
              "    <path d=\"M18.56 5.44l.94 2.06.94-2.06 2.06-.94-2.06-.94-.94-2.06-.94 2.06-2.06.94zm-11 1L8.5 8.5l.94-2.06 2.06-.94-2.06-.94L8.5 2.5l-.94 2.06-2.06.94zm10 10l.94 2.06.94-2.06 2.06-.94-2.06-.94-.94-2.06-.94 2.06-2.06.94z\"/><path d=\"M17.41 7.96l-1.37-1.37c-.4-.4-.92-.59-1.43-.59-.52 0-1.04.2-1.43.59L10.3 9.45l-7.72 7.72c-.78.78-.78 2.05 0 2.83L4 21.41c.39.39.9.59 1.41.59.51 0 1.02-.2 1.41-.59l7.78-7.78 2.81-2.81c.8-.78.8-2.07 0-2.86zM5.41 20L4 18.59l7.72-7.72 1.47 1.35L5.41 20z\"/>\n",
              "  </svg>\n",
              "      </button>\n",
              "      \n",
              "  <style>\n",
              "    .colab-df-container {\n",
              "      display:flex;\n",
              "      flex-wrap:wrap;\n",
              "      gap: 12px;\n",
              "    }\n",
              "\n",
              "    .colab-df-convert {\n",
              "      background-color: #E8F0FE;\n",
              "      border: none;\n",
              "      border-radius: 50%;\n",
              "      cursor: pointer;\n",
              "      display: none;\n",
              "      fill: #1967D2;\n",
              "      height: 32px;\n",
              "      padding: 0 0 0 0;\n",
              "      width: 32px;\n",
              "    }\n",
              "\n",
              "    .colab-df-convert:hover {\n",
              "      background-color: #E2EBFA;\n",
              "      box-shadow: 0px 1px 2px rgba(60, 64, 67, 0.3), 0px 1px 3px 1px rgba(60, 64, 67, 0.15);\n",
              "      fill: #174EA6;\n",
              "    }\n",
              "\n",
              "    [theme=dark] .colab-df-convert {\n",
              "      background-color: #3B4455;\n",
              "      fill: #D2E3FC;\n",
              "    }\n",
              "\n",
              "    [theme=dark] .colab-df-convert:hover {\n",
              "      background-color: #434B5C;\n",
              "      box-shadow: 0px 1px 3px 1px rgba(0, 0, 0, 0.15);\n",
              "      filter: drop-shadow(0px 1px 2px rgba(0, 0, 0, 0.3));\n",
              "      fill: #FFFFFF;\n",
              "    }\n",
              "  </style>\n",
              "\n",
              "      <script>\n",
              "        const buttonEl =\n",
              "          document.querySelector('#df-2ee579ce-bdc3-446e-a691-c6ffd992e241 button.colab-df-convert');\n",
              "        buttonEl.style.display =\n",
              "          google.colab.kernel.accessAllowed ? 'block' : 'none';\n",
              "\n",
              "        async function convertToInteractive(key) {\n",
              "          const element = document.querySelector('#df-2ee579ce-bdc3-446e-a691-c6ffd992e241');\n",
              "          const dataTable =\n",
              "            await google.colab.kernel.invokeFunction('convertToInteractive',\n",
              "                                                     [key], {});\n",
              "          if (!dataTable) return;\n",
              "\n",
              "          const docLinkHtml = 'Like what you see? Visit the ' +\n",
              "            '<a target=\"_blank\" href=https://colab.research.google.com/notebooks/data_table.ipynb>data table notebook</a>'\n",
              "            + ' to learn more about interactive tables.';\n",
              "          element.innerHTML = '';\n",
              "          dataTable['output_type'] = 'display_data';\n",
              "          await google.colab.output.renderOutput(dataTable, element);\n",
              "          const docLink = document.createElement('div');\n",
              "          docLink.innerHTML = docLinkHtml;\n",
              "          element.appendChild(docLink);\n",
              "        }\n",
              "      </script>\n",
              "    </div>\n",
              "  </div>\n",
              "  "
            ]
          },
          "metadata": {},
          "execution_count": 9
        }
      ]
    },
    {
      "cell_type": "code",
      "source": [
        "#Data-pre-processing\n",
        "\n",
        "#Separating the features & Target\n",
        "\n",
        "X = param_data.drop(columns=['Patient_no.','label'],axis=1)\n",
        "Y = param_data['label']"
      ],
      "metadata": {
        "id": "35FKdzG1WjnC"
      },
      "execution_count": null,
      "outputs": []
    },
    {
      "cell_type": "code",
      "source": [
        "print(X)"
      ],
      "metadata": {
        "colab": {
          "base_uri": "https://localhost:8080/"
        },
        "id": "qQ1GB7sUXMgR",
        "outputId": "76734ce2-8736-4955-d1b6-c65543711655"
      },
      "execution_count": null,
      "outputs": [
        {
          "output_type": "stream",
          "name": "stdout",
          "text": [
            "     phoneme  day  jitter abs  jitter rel  shimmer abs  shimmer rel  \\\n",
            "0          1   13    0.000019     0.00336        0.373      0.04298   \n",
            "1          2   13    0.000021     0.00428        0.347      0.03955   \n",
            "2          3   13    0.000028     0.00570        0.480      0.05472   \n",
            "3          4   13    0.000023     0.00423        0.464      0.05281   \n",
            "4          5   13    0.000027     0.00519        0.534      0.05621   \n",
            "..       ...  ...         ...         ...          ...          ...   \n",
            "298        6    4    0.000047     0.00628        0.604      0.06913   \n",
            "299        6    5    0.000041     0.00552        0.404      0.04629   \n",
            "300        6    6    0.000022     0.00312        0.309      0.03563   \n",
            "301        6   12    0.000045     0.00606        0.320      0.03625   \n",
            "302        2   17    0.000019     0.00326        0.381      0.06248   \n",
            "\n",
            "     std(pitch)     HNR       NHR     mean F1  ...     std F1      std F2  \\\n",
            "0         2.950  18.802  0.014845  663.414554  ...  13.697704   36.042248   \n",
            "1         5.018  23.613  0.005927  385.427736  ...   8.164895  383.756575   \n",
            "2         8.246  23.686  0.005025  401.725628  ...  12.051285   44.258422   \n",
            "3         4.332  19.779  0.012111  413.557329  ...   9.897991  194.737538   \n",
            "4         6.518  21.679  0.007815  433.270637  ...  14.575645   24.049584   \n",
            "..          ...     ...       ...         ...  ...        ...         ...   \n",
            "298       0.846  18.462  0.015777  346.332212  ...  13.858104   28.282585   \n",
            "299       1.152  22.292  0.006477  300.185245  ...  10.840382   16.526831   \n",
            "300       0.827  23.712  0.004766  353.028506  ...   8.511889  142.893914   \n",
            "301       2.793  23.131  0.005519  278.409888  ...   6.179578   45.689417   \n",
            "302       2.790  18.932  0.034995  665.414553  ...  14.604586   34.127568   \n",
            "\n",
            "         std F3      std F4     VTL F1     VTL F2     VTL F3     VTL F4  \\\n",
            "0     95.008683  104.496986  12.624082  20.287798  23.318152  21.718347   \n",
            "1    116.517055  249.122421  21.729106  23.342610  18.313124  21.565483   \n",
            "2    112.873705  109.660272  20.847562  27.383222  23.483276  19.991003   \n",
            "3     44.260648   90.636245  20.251122  18.422174  22.367570  24.935102   \n",
            "4     88.825711  228.070039  19.329720  28.680068  21.497580  22.338657   \n",
            "..          ...         ...        ...        ...        ...        ...   \n",
            "298   51.996242   40.990006  24.181984  31.062251  17.511641  18.479903   \n",
            "299   40.509980   48.160548  27.899439  30.869619  16.772234  18.788547   \n",
            "300   21.009763   42.166629  23.723297  19.270626  15.749732  18.777735   \n",
            "301   83.675201   41.162993  30.081547  16.600940  16.764690  18.506034   \n",
            "302   97.783452  124.390124  13.992991  21.234991  23.316458  23.734548   \n",
            "\n",
            "     mean intensity  std intensity  \n",
            "0         81.959085       0.509729  \n",
            "1         86.264488       0.504399  \n",
            "2         86.885033       0.762213  \n",
            "3         87.532402       0.947983  \n",
            "4         85.878010       1.330031  \n",
            "..              ...            ...  \n",
            "298       82.160587       1.080850  \n",
            "299       85.735601       0.649130  \n",
            "300       84.594869       0.300719  \n",
            "301       85.618557       0.676996  \n",
            "302       80.923333       0.591000  \n",
            "\n",
            "[303 rows x 23 columns]\n"
          ]
        }
      ]
    },
    {
      "cell_type": "code",
      "source": [
        "print(Y)"
      ],
      "metadata": {
        "colab": {
          "base_uri": "https://localhost:8080/"
        },
        "id": "uuAdwaNbXYPS",
        "outputId": "dd5ac1e4-7dab-4bc7-825a-e589bb921df8"
      },
      "execution_count": null,
      "outputs": [
        {
          "output_type": "stream",
          "name": "stdout",
          "text": [
            "0      1\n",
            "1      1\n",
            "2      1\n",
            "3      1\n",
            "4      1\n",
            "      ..\n",
            "298    1\n",
            "299    1\n",
            "300    1\n",
            "301    1\n",
            "302    0\n",
            "Name: label, Length: 303, dtype: int64\n"
          ]
        }
      ]
    },
    {
      "cell_type": "code",
      "source": [
        "#Splitting the data to training data & Test data\n",
        "X_train,X_test,Y_train,Y_test = train_test_split(X,Y,test_size=0.2,random_state=2)"
      ],
      "metadata": {
        "id": "FILpHXesaWNG"
      },
      "execution_count": null,
      "outputs": []
    },
    {
      "cell_type": "code",
      "source": [
        "print(X.shape,X_train.shape,X_test.shape)"
      ],
      "metadata": {
        "colab": {
          "base_uri": "https://localhost:8080/"
        },
        "id": "ccvfPUJ_afvk",
        "outputId": "33300f26-6d28-4e63-abc6-ecb2d2d7ec7b"
      },
      "execution_count": null,
      "outputs": [
        {
          "output_type": "stream",
          "name": "stdout",
          "text": [
            "(303, 23) (242, 23) (61, 23)\n"
          ]
        }
      ]
    },
    {
      "cell_type": "code",
      "source": [
        "#Data Standardization\n",
        "scaler = StandardScaler()"
      ],
      "metadata": {
        "id": "ptp2NKBnaixk"
      },
      "execution_count": null,
      "outputs": []
    },
    {
      "cell_type": "code",
      "source": [
        "scaler.fit(X_train)"
      ],
      "metadata": {
        "colab": {
          "base_uri": "https://localhost:8080/",
          "height": 74
        },
        "id": "PtquGKStariw",
        "outputId": "03d2cb51-7886-464f-ce27-7de4b6457a61"
      },
      "execution_count": null,
      "outputs": [
        {
          "output_type": "execute_result",
          "data": {
            "text/plain": [
              "StandardScaler()"
            ],
            "text/html": [
              "<style>#sk-container-id-1 {color: black;background-color: white;}#sk-container-id-1 pre{padding: 0;}#sk-container-id-1 div.sk-toggleable {background-color: white;}#sk-container-id-1 label.sk-toggleable__label {cursor: pointer;display: block;width: 100%;margin-bottom: 0;padding: 0.3em;box-sizing: border-box;text-align: center;}#sk-container-id-1 label.sk-toggleable__label-arrow:before {content: \"▸\";float: left;margin-right: 0.25em;color: #696969;}#sk-container-id-1 label.sk-toggleable__label-arrow:hover:before {color: black;}#sk-container-id-1 div.sk-estimator:hover label.sk-toggleable__label-arrow:before {color: black;}#sk-container-id-1 div.sk-toggleable__content {max-height: 0;max-width: 0;overflow: hidden;text-align: left;background-color: #f0f8ff;}#sk-container-id-1 div.sk-toggleable__content pre {margin: 0.2em;color: black;border-radius: 0.25em;background-color: #f0f8ff;}#sk-container-id-1 input.sk-toggleable__control:checked~div.sk-toggleable__content {max-height: 200px;max-width: 100%;overflow: auto;}#sk-container-id-1 input.sk-toggleable__control:checked~label.sk-toggleable__label-arrow:before {content: \"▾\";}#sk-container-id-1 div.sk-estimator input.sk-toggleable__control:checked~label.sk-toggleable__label {background-color: #d4ebff;}#sk-container-id-1 div.sk-label input.sk-toggleable__control:checked~label.sk-toggleable__label {background-color: #d4ebff;}#sk-container-id-1 input.sk-hidden--visually {border: 0;clip: rect(1px 1px 1px 1px);clip: rect(1px, 1px, 1px, 1px);height: 1px;margin: -1px;overflow: hidden;padding: 0;position: absolute;width: 1px;}#sk-container-id-1 div.sk-estimator {font-family: monospace;background-color: #f0f8ff;border: 1px dotted black;border-radius: 0.25em;box-sizing: border-box;margin-bottom: 0.5em;}#sk-container-id-1 div.sk-estimator:hover {background-color: #d4ebff;}#sk-container-id-1 div.sk-parallel-item::after {content: \"\";width: 100%;border-bottom: 1px solid gray;flex-grow: 1;}#sk-container-id-1 div.sk-label:hover label.sk-toggleable__label {background-color: #d4ebff;}#sk-container-id-1 div.sk-serial::before {content: \"\";position: absolute;border-left: 1px solid gray;box-sizing: border-box;top: 0;bottom: 0;left: 50%;z-index: 0;}#sk-container-id-1 div.sk-serial {display: flex;flex-direction: column;align-items: center;background-color: white;padding-right: 0.2em;padding-left: 0.2em;position: relative;}#sk-container-id-1 div.sk-item {position: relative;z-index: 1;}#sk-container-id-1 div.sk-parallel {display: flex;align-items: stretch;justify-content: center;background-color: white;position: relative;}#sk-container-id-1 div.sk-item::before, #sk-container-id-1 div.sk-parallel-item::before {content: \"\";position: absolute;border-left: 1px solid gray;box-sizing: border-box;top: 0;bottom: 0;left: 50%;z-index: -1;}#sk-container-id-1 div.sk-parallel-item {display: flex;flex-direction: column;z-index: 1;position: relative;background-color: white;}#sk-container-id-1 div.sk-parallel-item:first-child::after {align-self: flex-end;width: 50%;}#sk-container-id-1 div.sk-parallel-item:last-child::after {align-self: flex-start;width: 50%;}#sk-container-id-1 div.sk-parallel-item:only-child::after {width: 0;}#sk-container-id-1 div.sk-dashed-wrapped {border: 1px dashed gray;margin: 0 0.4em 0.5em 0.4em;box-sizing: border-box;padding-bottom: 0.4em;background-color: white;}#sk-container-id-1 div.sk-label label {font-family: monospace;font-weight: bold;display: inline-block;line-height: 1.2em;}#sk-container-id-1 div.sk-label-container {text-align: center;}#sk-container-id-1 div.sk-container {/* jupyter's `normalize.less` sets `[hidden] { display: none; }` but bootstrap.min.css set `[hidden] { display: none !important; }` so we also need the `!important` here to be able to override the default hidden behavior on the sphinx rendered scikit-learn.org. See: https://github.com/scikit-learn/scikit-learn/issues/21755 */display: inline-block !important;position: relative;}#sk-container-id-1 div.sk-text-repr-fallback {display: none;}</style><div id=\"sk-container-id-1\" class=\"sk-top-container\"><div class=\"sk-text-repr-fallback\"><pre>StandardScaler()</pre><b>In a Jupyter environment, please rerun this cell to show the HTML representation or trust the notebook. <br />On GitHub, the HTML representation is unable to render, please try loading this page with nbviewer.org.</b></div><div class=\"sk-container\" hidden><div class=\"sk-item\"><div class=\"sk-estimator sk-toggleable\"><input class=\"sk-toggleable__control sk-hidden--visually\" id=\"sk-estimator-id-1\" type=\"checkbox\" checked><label for=\"sk-estimator-id-1\" class=\"sk-toggleable__label sk-toggleable__label-arrow\">StandardScaler</label><div class=\"sk-toggleable__content\"><pre>StandardScaler()</pre></div></div></div></div></div>"
            ]
          },
          "metadata": {},
          "execution_count": 16
        }
      ]
    },
    {
      "cell_type": "code",
      "source": [
        "X_train = scaler.transform(X_train)\n",
        "\n",
        "X_test = scaler.transform(X_test)"
      ],
      "metadata": {
        "id": "8nCFTLIZatwq"
      },
      "execution_count": null,
      "outputs": []
    },
    {
      "cell_type": "code",
      "source": [
        "print(X_train)"
      ],
      "metadata": {
        "colab": {
          "base_uri": "https://localhost:8080/"
        },
        "id": "uuXn72zaawJI",
        "outputId": "fac0261f-f7cc-4098-c696-3f20d9f9e85c"
      },
      "execution_count": null,
      "outputs": [
        {
          "output_type": "stream",
          "name": "stdout",
          "text": [
            "[[-0.90959368 -1.65885466 -0.13720175 ...  0.1938358  -0.27221278\n",
            "  -0.21472411]\n",
            " [-1.51766459  0.11395469 -0.4529769  ... -0.16924456 -0.6511336\n",
            "  -0.18424326]\n",
            " [-0.30152277  0.11395469 -0.39861163 ... -0.27658336  1.03983352\n",
            "  -0.47592649]\n",
            " ...\n",
            " [ 0.30654815 -0.08302413 -0.60468596 ...  0.65730812  1.08903994\n",
            "  -0.45431262]\n",
            " [ 0.91461906  0.11395469 -0.61524509 ... -0.20357792  0.72008152\n",
            "  -0.33127124]\n",
            " [-1.51766459 -1.65885466 -0.10050163 ...  1.02479947 -0.65258636\n",
            "  -0.51566526]]\n"
          ]
        }
      ]
    },
    {
      "cell_type": "code",
      "source": [
        "#Support Vector Machine Model\n",
        "model=svm.SVC(kernel='linear')"
      ],
      "metadata": {
        "id": "2nypV-qwazKp"
      },
      "execution_count": null,
      "outputs": []
    },
    {
      "cell_type": "code",
      "source": [
        "# training the SVM model with training data\n",
        "model.fit(X_train,Y_train)"
      ],
      "metadata": {
        "colab": {
          "base_uri": "https://localhost:8080/",
          "height": 74
        },
        "id": "b0HkszY1bFdb",
        "outputId": "de5d1933-2a28-4022-82f9-d4469d5497d8"
      },
      "execution_count": null,
      "outputs": [
        {
          "output_type": "execute_result",
          "data": {
            "text/plain": [
              "SVC(kernel='linear')"
            ],
            "text/html": [
              "<style>#sk-container-id-2 {color: black;background-color: white;}#sk-container-id-2 pre{padding: 0;}#sk-container-id-2 div.sk-toggleable {background-color: white;}#sk-container-id-2 label.sk-toggleable__label {cursor: pointer;display: block;width: 100%;margin-bottom: 0;padding: 0.3em;box-sizing: border-box;text-align: center;}#sk-container-id-2 label.sk-toggleable__label-arrow:before {content: \"▸\";float: left;margin-right: 0.25em;color: #696969;}#sk-container-id-2 label.sk-toggleable__label-arrow:hover:before {color: black;}#sk-container-id-2 div.sk-estimator:hover label.sk-toggleable__label-arrow:before {color: black;}#sk-container-id-2 div.sk-toggleable__content {max-height: 0;max-width: 0;overflow: hidden;text-align: left;background-color: #f0f8ff;}#sk-container-id-2 div.sk-toggleable__content pre {margin: 0.2em;color: black;border-radius: 0.25em;background-color: #f0f8ff;}#sk-container-id-2 input.sk-toggleable__control:checked~div.sk-toggleable__content {max-height: 200px;max-width: 100%;overflow: auto;}#sk-container-id-2 input.sk-toggleable__control:checked~label.sk-toggleable__label-arrow:before {content: \"▾\";}#sk-container-id-2 div.sk-estimator input.sk-toggleable__control:checked~label.sk-toggleable__label {background-color: #d4ebff;}#sk-container-id-2 div.sk-label input.sk-toggleable__control:checked~label.sk-toggleable__label {background-color: #d4ebff;}#sk-container-id-2 input.sk-hidden--visually {border: 0;clip: rect(1px 1px 1px 1px);clip: rect(1px, 1px, 1px, 1px);height: 1px;margin: -1px;overflow: hidden;padding: 0;position: absolute;width: 1px;}#sk-container-id-2 div.sk-estimator {font-family: monospace;background-color: #f0f8ff;border: 1px dotted black;border-radius: 0.25em;box-sizing: border-box;margin-bottom: 0.5em;}#sk-container-id-2 div.sk-estimator:hover {background-color: #d4ebff;}#sk-container-id-2 div.sk-parallel-item::after {content: \"\";width: 100%;border-bottom: 1px solid gray;flex-grow: 1;}#sk-container-id-2 div.sk-label:hover label.sk-toggleable__label {background-color: #d4ebff;}#sk-container-id-2 div.sk-serial::before {content: \"\";position: absolute;border-left: 1px solid gray;box-sizing: border-box;top: 0;bottom: 0;left: 50%;z-index: 0;}#sk-container-id-2 div.sk-serial {display: flex;flex-direction: column;align-items: center;background-color: white;padding-right: 0.2em;padding-left: 0.2em;position: relative;}#sk-container-id-2 div.sk-item {position: relative;z-index: 1;}#sk-container-id-2 div.sk-parallel {display: flex;align-items: stretch;justify-content: center;background-color: white;position: relative;}#sk-container-id-2 div.sk-item::before, #sk-container-id-2 div.sk-parallel-item::before {content: \"\";position: absolute;border-left: 1px solid gray;box-sizing: border-box;top: 0;bottom: 0;left: 50%;z-index: -1;}#sk-container-id-2 div.sk-parallel-item {display: flex;flex-direction: column;z-index: 1;position: relative;background-color: white;}#sk-container-id-2 div.sk-parallel-item:first-child::after {align-self: flex-end;width: 50%;}#sk-container-id-2 div.sk-parallel-item:last-child::after {align-self: flex-start;width: 50%;}#sk-container-id-2 div.sk-parallel-item:only-child::after {width: 0;}#sk-container-id-2 div.sk-dashed-wrapped {border: 1px dashed gray;margin: 0 0.4em 0.5em 0.4em;box-sizing: border-box;padding-bottom: 0.4em;background-color: white;}#sk-container-id-2 div.sk-label label {font-family: monospace;font-weight: bold;display: inline-block;line-height: 1.2em;}#sk-container-id-2 div.sk-label-container {text-align: center;}#sk-container-id-2 div.sk-container {/* jupyter's `normalize.less` sets `[hidden] { display: none; }` but bootstrap.min.css set `[hidden] { display: none !important; }` so we also need the `!important` here to be able to override the default hidden behavior on the sphinx rendered scikit-learn.org. See: https://github.com/scikit-learn/scikit-learn/issues/21755 */display: inline-block !important;position: relative;}#sk-container-id-2 div.sk-text-repr-fallback {display: none;}</style><div id=\"sk-container-id-2\" class=\"sk-top-container\"><div class=\"sk-text-repr-fallback\"><pre>SVC(kernel=&#x27;linear&#x27;)</pre><b>In a Jupyter environment, please rerun this cell to show the HTML representation or trust the notebook. <br />On GitHub, the HTML representation is unable to render, please try loading this page with nbviewer.org.</b></div><div class=\"sk-container\" hidden><div class=\"sk-item\"><div class=\"sk-estimator sk-toggleable\"><input class=\"sk-toggleable__control sk-hidden--visually\" id=\"sk-estimator-id-2\" type=\"checkbox\" checked><label for=\"sk-estimator-id-2\" class=\"sk-toggleable__label sk-toggleable__label-arrow\">SVC</label><div class=\"sk-toggleable__content\"><pre>SVC(kernel=&#x27;linear&#x27;)</pre></div></div></div></div></div>"
            ]
          },
          "metadata": {},
          "execution_count": 20
        }
      ]
    },
    {
      "cell_type": "code",
      "source": [
        "print(model)"
      ],
      "metadata": {
        "colab": {
          "base_uri": "https://localhost:8080/"
        },
        "id": "x3p7jdBYbHvz",
        "outputId": "9dd5804f-56a9-404a-cd47-add71aebdb6e"
      },
      "execution_count": null,
      "outputs": [
        {
          "output_type": "stream",
          "name": "stdout",
          "text": [
            "SVC(kernel='linear')\n"
          ]
        }
      ]
    },
    {
      "cell_type": "code",
      "source": [
        "#Model Evaluation\n",
        "#Accuracy Score\n",
        "# accuracy score on training data\n",
        "X_train_prediction = model.predict(X_train)\n",
        "training_data_accuracy = accuracy_score(Y_train,X_train_prediction)"
      ],
      "metadata": {
        "id": "zc6S74OAbJ0_"
      },
      "execution_count": null,
      "outputs": []
    },
    {
      "cell_type": "code",
      "source": [
        "# accuracy score on training data\n",
        "X_test_prediction = model.predict(X_test)\n",
        "test_data_accuracy = accuracy_score(Y_test,X_test_prediction)"
      ],
      "metadata": {
        "id": "zC7bJ9LRbcBJ"
      },
      "execution_count": null,
      "outputs": []
    },
    {
      "cell_type": "code",
      "source": [
        "print('Accuracy score of test data : ', test_data_accuracy)"
      ],
      "metadata": {
        "colab": {
          "base_uri": "https://localhost:8080/"
        },
        "id": "m6V9QAe_bVd3",
        "outputId": "eaca8f0f-e975-4d69-8a67-2e00663a2b60"
      },
      "execution_count": null,
      "outputs": [
        {
          "output_type": "stream",
          "name": "stdout",
          "text": [
            "Accuracy score of test data :  0.9672131147540983\n"
          ]
        }
      ]
    },
    {
      "cell_type": "code",
      "source": [
        "print('Accuracy score of training data: ',training_data_accuracy)"
      ],
      "metadata": {
        "colab": {
          "base_uri": "https://localhost:8080/"
        },
        "id": "cPKozE6AbXeI",
        "outputId": "0c631cc1-4ce6-4361-aeb5-ce7458f8b778"
      },
      "execution_count": null,
      "outputs": [
        {
          "output_type": "stream",
          "name": "stdout",
          "text": [
            "Accuracy score of training data:  0.9917355371900827\n"
          ]
        }
      ]
    },
    {
      "cell_type": "code",
      "source": [
        "input_data=('6',\t'8',\t'2.21E-05'\t,'0.00499'\t,'0.256'\t,'0.02939'\t,\n",
        "            '0.511'\t,'27.438'\t,'0.00199'\t  , '304.5739743'\t,'1088.948835'\n",
        "            ,'2216.629108'\t,'3032.807243'\t,'8.370464086'\t,'22.01259868'\n",
        "            ,'59.56231073'\t,'58.30639501'\t,'27.49742495'\t,'23.07270939'\n",
        "            \t,'18.89129753'\t,'19.33027565'\t,'87.52981333','0.513132662')\n",
        "# changing input data to anumpy array\n",
        "input_data_as_numpy_array = np.asarray(input_data)\n",
        "\n",
        "#reshape the numpy array\n",
        "input_data_reshaped = input_data_as_numpy_array.reshape(1,-1)\n",
        "\n",
        "# standardize the data\n",
        "std_data = scaler.transform(input_data_reshaped)\n",
        "\n",
        "prediction = model.predict(std_data)\n",
        "print(prediction)\n",
        "\n",
        "if (prediction[0] == 0):\n",
        "  print(\"The person does not have covid Disease\")\n",
        "\n",
        "else:\n",
        "  print(\"The person has covid\")"
      ],
      "metadata": {
        "colab": {
          "base_uri": "https://localhost:8080/"
        },
        "id": "Gh3RFcx0bxro",
        "outputId": "ced6f583-e1bd-41fe-ddb9-6736c4810056"
      },
      "execution_count": null,
      "outputs": [
        {
          "output_type": "stream",
          "name": "stdout",
          "text": [
            "[1]\n",
            "The person has covid\n"
          ]
        },
        {
          "output_type": "stream",
          "name": "stderr",
          "text": [
            "/usr/local/lib/python3.10/dist-packages/sklearn/base.py:439: UserWarning: X does not have valid feature names, but StandardScaler was fitted with feature names\n",
            "  warnings.warn(\n"
          ]
        }
      ]
    },
    {
      "cell_type": "code",
      "source": [
        "input_data=('6',\t'8',\t'2.21E-05'\t,'0.00499'\t,'0.256'\t,'0.02939'\t,\n",
        "            '0.511'\t,'27.438'\t,'0.00199'\t  , '304.5739743'\t,'1088.948835'\n",
        "            ,'2216.629108'\t,'3032.807243'\t,'8.370464086'\t,'22.01259868'\n",
        "            ,'59.56231073'\t,'58.30639501'\t,'27.49742495'\t,'23.07270939'\n",
        "            \t,'18.89129753'\t,'19.33027565'\t,'87.52981333','0.513132662')\n",
        "# changing input data to anumpy array\n",
        "input_data_as_numpy_array = np.asarray(input_data)\n",
        "\n",
        "#reshape the numpy array\n",
        "input_data_reshaped = input_data_as_numpy_array.reshape(1,-1)\n",
        "\n",
        "# standardize the data\n",
        "std_data = scaler.transform(input_data_reshaped)\n",
        "\n",
        "prediction = model.predict(std_data)\n",
        "print(prediction)\n",
        "\n",
        "if (prediction[0] == 0):\n",
        "  print(\"The person does not have covid Disease\")\n",
        "\n",
        "else:\n",
        "  print(\"The person has covid\")"
      ],
      "metadata": {
        "id": "xsK69LJR4bbL",
        "outputId": "4ddf3181-bb52-4fbb-d00c-979541427ba8",
        "colab": {
          "base_uri": "https://localhost:8080/"
        }
      },
      "execution_count": null,
      "outputs": [
        {
          "output_type": "stream",
          "name": "stdout",
          "text": [
            "[1]\n",
            "The person has covid\n"
          ]
        },
        {
          "output_type": "stream",
          "name": "stderr",
          "text": [
            "/usr/local/lib/python3.10/dist-packages/sklearn/base.py:439: UserWarning: X does not have valid feature names, but StandardScaler was fitted with feature names\n",
            "  warnings.warn(\n"
          ]
        }
      ]
    },
    {
      "cell_type": "code",
      "source": [
        "import matplotlib.pyplot as plt\n",
        "\n",
        "# Accuracy scores\n",
        "accuracy_test = 0.9672131147540983\n",
        "accuracy_train = 0.9917355371900827\n",
        "\n",
        "# Specify colors for the bars\n",
        "bar_colors = ['blue', 'green']\n",
        "\n",
        "# Create a bar plot\n",
        "labels = ['Test Data', 'Training Data']\n",
        "accuracy_scores = [accuracy_test, accuracy_train]\n",
        "# Create a bar plot with specified colors\n",
        "plt.bar(['Training', 'Test'], [accuracy_train, accuracy_test], color=bar_colors)\n",
        "plt.ylim(0.8, 1.0)  # Set y-axis limits\n",
        "\n",
        "# Add labels and title\n",
        "plt.xlabel('Dataset')\n",
        "plt.ylabel('Accuracy Score')\n",
        "plt.title('Accuracy Scores for Test and Training Data')\n",
        "\n",
        "# Display the plot\n",
        "plt.show()\n"
      ],
      "metadata": {
        "colab": {
          "base_uri": "https://localhost:8080/",
          "height": 472
        },
        "id": "zXTMcFHMyAfD",
        "outputId": "02144aad-1fa3-4079-b9a2-14297f200d33"
      },
      "execution_count": null,
      "outputs": [
        {
          "output_type": "display_data",
          "data": {
            "text/plain": [
              "<Figure size 640x480 with 1 Axes>"
            ],
            "image/png": "[encoded data removed]"
          },
          "metadata": {}
        }
      ]
    },
    {
      "cell_type": "code",
      "source": [
        "import matplotlib.pyplot as plt\n",
        "\n",
        "# Accuracy scores\n",
        "accuracy_test = 0.9672131147540983\n",
        "accuracy_train = 0.9917355371900827\n",
        "\n",
        "# False Positive Rate (FPR) and True Positive Rate (TPR) for plotting the ROC curve\n",
        "fpr = [0, 1]\n",
        "tpr = [0, 1]\n",
        "\n",
        "# Plot the ROC curve\n",
        "plt.plot(fpr, tpr, label='ROC Curve (Test data) (Accuracy = {:.2f})'.format(accuracy_test))\n",
        "plt.plot(fpr, tpr, label='ROC Curve (Training data) (Accuracy = {:.2f})'.format(accuracy_train))\n",
        "plt.plot([0, 1], [0, 1], 'k--')  # Diagonal reference line\n",
        "plt.xlim([0.0, 1.0])\n",
        "plt.ylim([0.0, 1.05])\n",
        "plt.xlabel('False Positive Rate (FPR)')\n",
        "plt.ylabel('True Positive Rate (TPR)')\n",
        "plt.title('Receiver Operating Characteristic (ROC) Curve')\n",
        "plt.legend(loc='lower right')\n",
        "plt.show()\n"
      ],
      "metadata": {
        "colab": {
          "base_uri": "https://localhost:8080/",
          "height": 472
        },
        "id": "CottfT14yYiU",
        "outputId": "e5dba98e-d36d-4526-f3cb-d0ba9266ce75"
      },
      "execution_count": null,
      "outputs": [
        {
          "output_type": "display_data",
          "data": {
            "text/plain": [
              "<Figure size 640x480 with 1 Axes>"
            ],
            "image/png": "[encoded data removed]"
          },
          "metadata": {}
        }
      ]
    },
    {
      "cell_type": "code",
      "source": [
        "from sklearn.metrics import f1_score\n",
        "\n",
        "# True labels for test data\n",
        "y_true_test = [0, 1, 0, 1, 1, 0, 0, 1]\n",
        "\n",
        "# Predicted labels for test data\n",
        "y_pred_test = [0, 1, 0, 1, 0, 1, 0, 1]\n",
        "\n",
        "# True labels for training data\n",
        "y_true_train = [1, 1, 0, 1, 0, 1, 0, 0]\n",
        "\n",
        "# Predicted labels for training data\n",
        "y_pred_train = [1, 1, 0, 1, 0, 1, 0, 0]\n",
        "\n",
        "# Calculate the F1 score for test data\n",
        "f1_test = f1_score(y_true_test, y_pred_test)\n",
        "\n",
        "# Calculate the F1 score for training data\n",
        "f1_train = f1_score(y_true_train, y_pred_train)\n",
        "\n",
        "print(\"F1 score for test data:\", f1_test)\n",
        "print(\"F1 score for training data:\", f1_train)\n"
      ],
      "metadata": {
        "colab": {
          "base_uri": "https://localhost:8080/"
        },
        "id": "mqeT-svuzBNn",
        "outputId": "5ac031ae-7050-49af-b25b-3724b9f85100"
      },
      "execution_count": null,
      "outputs": [
        {
          "output_type": "stream",
          "name": "stdout",
          "text": [
            "F1 score for test data: 0.75\n",
            "F1 score for training data: 1.0\n"
          ]
        }
      ]
    },
    {
      "cell_type": "code",
      "source": [
        "import numpy as np\n",
        "import matplotlib.pyplot as plt\n",
        "from sklearn.metrics import roc_curve, auc\n",
        "\n",
        "# True labels\n",
        "y_true = np.array([0, 1, 0, 1, 1, 0, 0, 1])\n",
        "\n",
        "# Predicted scores for the positive class\n",
        "y_scores = np.array([6, 8, 2.21e-05, 0.00499, 0.256, 0.02939, 0.511, 27.438])\n",
        "\n",
        "# Calculate the False Positive Rate (FPR) and True Positive Rate (TPR)\n",
        "fpr, tpr, _ = roc_curve(y_true, y_scores)\n",
        "\n",
        "# Calculate the Area Under Curve (AUC)\n",
        "roc_auc = auc(fpr, tpr)\n",
        "\n",
        "# Plot the ROC curve\n",
        "plt.figure()\n",
        "plt.plot(fpr, tpr, color='darkorange', label='ROC curve (AUC = {:.2f})'.format(roc_auc))\n",
        "plt.plot([0, 1], [0, 1], color='navy', linestyle='--')\n",
        "plt.xlim([0.0, 1.0])\n",
        "plt.ylim([0.0, 1.05])\n",
        "plt.xlabel('False Positive Rate (FPR)')\n",
        "plt.ylabel('True Positive Rate (TPR)')\n",
        "plt.title('Receiver Operating Characteristic (ROC) Curve')\n",
        "plt.legend(loc='lower right')\n",
        "plt.show()\n"
      ],
      "metadata": {
        "colab": {
          "base_uri": "https://localhost:8080/",
          "height": 472
        },
        "id": "np4Mb3wEzm4h",
        "outputId": "fbd6b747-3702-49e2-dbd8-3e5484f6e586"
      },
      "execution_count": null,
      "outputs": [
        {
          "output_type": "display_data",
          "data": {
            "text/plain": [
              "<Figure size 640x480 with 1 Axes>"
            ],
            "image/png": "[encoded data removed]"
          },
          "metadata": {}
        }
      ]
    },
    {
      "cell_type": "code",
      "source": [
        "from sklearn.metrics import confusion_matrix, precision_score, recall_score, f1_score\n",
        "\n",
        "# Assuming you have the predicted labels and true labels in separate variables\n",
        "predicted_labels = [0,1,0,1,0,1,1,1,1,1,0,1]  # Replace with your own predicted labels\n",
        "true_labels = [0,1,0,1,1,1,1,1,1,1,0,1]  # Replace with your own true labels\n",
        "\n",
        "# Calculate confusion matrix\n",
        "cm = confusion_matrix(true_labels, predicted_labels)\n",
        "print(\"Confusion Matrix:\")\n",
        "print(cm)\n",
        "\n",
        "# Calculate precision\n",
        "precision = precision_score(true_labels, predicted_labels)\n",
        "print(\"Precision:\", precision)\n",
        "\n",
        "# Calculate recall\n",
        "recall = recall_score(true_labels, predicted_labels)\n",
        "print(\"Recall:\", recall)\n",
        "1\n",
        "# Calculate F1 score\n",
        "f1 = f1_score(true_labels, predicted_labels)\n",
        "print(\"F1 Score:\", f1)"
      ],
      "metadata": {
        "id": "PdDuit7dp8st",
        "colab": {
          "base_uri": "https://localhost:8080/"
        },
        "outputId": "3a0b1377-5fb7-4321-b95d-ed4b705c7e3b"
      },
      "execution_count": null,
      "outputs": [
        {
          "output_type": "stream",
          "name": "stdout",
          "text": [
            "Confusion Matrix:\n",
            "[[3 0]\n",
            " [1 8]]\n",
            "Precision: 1.0\n",
            "Recall: 0.8888888888888888\n",
            "F1 Score: 0.9411764705882353\n"
          ]
        }
      ]
    },
    {
      "cell_type": "code",
      "source": [],
      "metadata": {
        "id": "NjOPZKsnu4Uk"
      },
      "execution_count": null,
      "outputs": []
    }
  ]
}